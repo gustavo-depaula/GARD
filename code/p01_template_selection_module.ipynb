{
 "cells": [
  {
   "cell_type": "code",
   "execution_count": 13,
   "id": "0cf71ca5-1a51-4a4e-9056-381655b69287",
   "metadata": {},
   "outputs": [],
   "source": [
    "import os\n",
    "import csv\n",
    "import json\n",
    "from dataclasses import dataclass\n",
    "from typing import List, Tuple\n",
    "from PIL import Image\n",
    "from tqdm import tqdm\n",
    "\n",
    "@dataclass\n",
    "class ImageLabel:\n",
    "    dataset: str\n",
    "    sourceImage: str\n",
    "    \n",
    "    runwayLabel: List[Tuple[int, int]]\n",
    "\n",
    "\"\"\"\n",
    "    Reads a CSV containing LARD data with columns:\n",
    "        image (filepath relative to csv_file),\n",
    "        x_A, y_A, x_B, y_B, x_C, y_C, x_D, y_D\n",
    "\n",
    "    Produces cropped images and associated label files in 'dest_folder',\n",
    "    each sized exactly H×H, where H is the original image's height.\n",
    "\n",
    "    Cropping logic:\n",
    "      - The entire vertical range (0..H) is used (no vertical trimming).\n",
    "      - We find a horizontal slice of width H that is (as much as possible)\n",
    "        centered on the runway. If the runway extends beyond what can fit,\n",
    "        or if W < H (making an H×H square impossible), we skip.\n",
    "\n",
    "    :param csv_file: Path to the CSV file.\n",
    "    :param dest_folder: Directory where cropped images and label files will be saved.\n",
    "\"\"\"\n",
    "def adapt_lard(csv_file: str, dest_folder: str):\n",
    "    os.makedirs(dest_folder, exist_ok=True)\n",
    "\n",
    "    with open(csv_file, \"r\", newline=\"\", encoding=\"utf-8\") as f:\n",
    "        reader = list(csv.DictReader(f, delimiter=';'))\n",
    "\n",
    "    for row in tqdm(reader, desc=\"Processing rows\", unit=\"image\"):\n",
    "        pts = [\n",
    "            (int(row[\"x_A\"]), int(row[\"y_A\"])),\n",
    "            (int(row[\"x_B\"]), int(row[\"y_B\"])),\n",
    "            (int(row[\"x_C\"]), int(row[\"y_C\"])),\n",
    "            (int(row[\"x_D\"]), int(row[\"y_D\"]))\n",
    "        ]\n",
    "\n",
    "        csv_dir = os.path.dirname(csv_file)\n",
    "        image_path = os.path.join(csv_dir, row[\"image\"])\n",
    "        try:\n",
    "            img = Image.open(image_path)\n",
    "        except FileNotFoundError:\n",
    "            print(f\"WARNING: File not found: {image_path}\")\n",
    "            continue\n",
    "\n",
    "        W, H = img.size\n",
    "\n",
    "        if W < H:\n",
    "            print(f\"WARNING: Image '{image_path}' is too narrow \"\n",
    "                  f\"({W}px) to produce a {H}x{H} square. Skipping.\")\n",
    "            continue\n",
    "\n",
    "        xs = [p[0] for p in pts]\n",
    "        ys = [p[1] for p in pts]\n",
    "        min_x, max_x = min(xs), max(xs)\n",
    "        min_y, max_y = min(ys), max(ys)\n",
    "\n",
    "        runway_width = max_x - min_x\n",
    "        if runway_width > H:\n",
    "            print(f\"WARNING: Runway bounding box in '{image_path}' \"\n",
    "                  f\"width={runway_width} exceeds final crop={H}. Skipping.\")\n",
    "            continue\n",
    "\n",
    "        # vertical crop is the entire height\n",
    "        top = 0\n",
    "        bottom = H\n",
    "\n",
    "        # horizontal positioning for H-wide crop\n",
    "        center_x = (min_x + max_x) / 2.0\n",
    "        ideal_left = int(round(center_x - (H / 2)))\n",
    "        left = max(0, min(ideal_left, W - H))\n",
    "        right = left + H\n",
    "\n",
    "        cropped_img = img.crop((left, top, right, bottom))\n",
    "        shifted_pts = [(p[0] - left, p[1] - top) for p in pts]\n",
    "\n",
    "        image_label = ImageLabel(\n",
    "            dataset=\"LARD/LARD_test_real_nominal\",\n",
    "            sourceImage=os.path.basename(image_path),\n",
    "            runwayLabel=shifted_pts\n",
    "        )\n",
    "\n",
    "        base_name = os.path.splitext(os.path.basename(image_path))[0]\n",
    "        out_image_name = f\"{base_name}.png\"\n",
    "        out_json_name = f\"{base_name}.json\"\n",
    "\n",
    "        out_image_path = os.path.join(dest_folder, out_image_name)\n",
    "        out_json_path = os.path.join(dest_folder, out_json_name)\n",
    "\n",
    "        cropped_img.save(out_image_path)\n",
    "\n",
    "        with open(out_json_path, \"w\", encoding=\"utf-8\") as label_file:\n",
    "            json.dump(\n",
    "                {\n",
    "                    \"dataset\": image_label.dataset,\n",
    "                    \"sourceImage\": image_label.sourceImage,\n",
    "                    \"runwayLabel\": image_label.runwayLabel,\n",
    "                },\n",
    "                label_file,\n",
    "                indent=4\n",
    "            )\n"
   ]
  },
  {
   "cell_type": "code",
   "execution_count": 14,
   "id": "c68dfd42-bc45-4f9e-a0b8-bdb81cf3ab74",
   "metadata": {},
   "outputs": [
    {
     "name": "stderr",
     "output_type": "stream",
     "text": [
      "Processing rows:   3%|▎         | 39/1500 [00:03<02:54,  8.39image/s]"
     ]
    },
    {
     "name": "stdout",
     "output_type": "stream",
     "text": [
      "WARNING: Runway bounding box in 'datasets/LARD/LARD_test_real/LARD_test_real_nominal/images/0CLSYZPFbTg_111.png' width=1213 exceeds final crop=1080. Skipping.\n"
     ]
    },
    {
     "name": "stderr",
     "output_type": "stream",
     "text": [
      "Processing rows:   3%|▎         | 51/1500 [00:05<04:02,  5.97image/s]"
     ]
    },
    {
     "name": "stdout",
     "output_type": "stream",
     "text": [
      "WARNING: Runway bounding box in 'datasets/LARD/LARD_test_real/LARD_test_real_nominal/images/0P-HJgLkZLk_097.png' width=1197 exceeds final crop=1080. Skipping.\n"
     ]
    },
    {
     "name": "stderr",
     "output_type": "stream",
     "text": [
      "Processing rows:  26%|██▋       | 394/1500 [01:33<01:56,  9.46image/s]"
     ]
    },
    {
     "name": "stdout",
     "output_type": "stream",
     "text": [
      "WARNING: Runway bounding box in 'datasets/LARD/LARD_test_real/LARD_test_real_nominal/images/CL2E9TS7IZw_084.png' width=1293 exceeds final crop=1080. Skipping.\n"
     ]
    },
    {
     "name": "stderr",
     "output_type": "stream",
     "text": [
      "Processing rows:  74%|███████▍  | 1116/1500 [04:47<00:34, 10.98image/s]"
     ]
    },
    {
     "name": "stdout",
     "output_type": "stream",
     "text": [
      "WARNING: Runway bounding box in 'datasets/LARD/LARD_test_real/LARD_test_real_nominal/images/qKf1gzX3lnI_077.png' width=1190 exceeds final crop=1080. Skipping.\n"
     ]
    },
    {
     "name": "stderr",
     "output_type": "stream",
     "text": [
      "Processing rows: 100%|██████████| 1500/1500 [06:46<00:00,  3.69image/s]\n"
     ]
    }
   ],
   "source": [
    "adapt_lard(\"datasets/LARD/LARD_test_real/LARD_test_real_nominal/Test_Real_Nominal.csv\", \"Templates\")"
   ]
  },
  {
   "cell_type": "code",
   "execution_count": null,
   "id": "00e3985d-4a29-4976-9776-604a7d401815",
   "metadata": {},
   "outputs": [],
   "source": []
  }
 ],
 "metadata": {
  "kernelspec": {
   "display_name": "Python 3 (ipykernel)",
   "language": "python",
   "name": "python3"
  },
  "language_info": {
   "codemirror_mode": {
    "name": "ipython",
    "version": 3
   },
   "file_extension": ".py",
   "mimetype": "text/x-python",
   "name": "python",
   "nbconvert_exporter": "python",
   "pygments_lexer": "ipython3",
   "version": "3.10.12"
  }
 },
 "nbformat": 4,
 "nbformat_minor": 5
}
