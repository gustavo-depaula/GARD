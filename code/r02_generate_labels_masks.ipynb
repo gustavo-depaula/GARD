{
 "cells": [
  {
   "cell_type": "code",
   "execution_count": 7,
   "id": "5348d571-0cae-4380-8708-5e0b1614e27d",
   "metadata": {},
   "outputs": [],
   "source": [
    "import math\n",
    "from PIL import Image, ImageDraw\n",
    "\n",
    "def ensure_clockwise_quad(polygon):\n",
    "    \"\"\"\n",
    "    Takes a list of 4 (x, y) points and ensures they are ordered clockwise.\n",
    "    Returns a new list of points in clockwise order.\n",
    "    \"\"\"\n",
    "    if len(polygon) != 4:\n",
    "        raise ValueError(\"Expected exactly 4 points.\")\n",
    "\n",
    "    # centroid\n",
    "    cx = sum(p[0] for p in polygon) / 4\n",
    "    cy = sum(p[1] for p in polygon) / 4\n",
    "\n",
    "    # angles from centroid\n",
    "    def angle_from_centroid(pt):\n",
    "        return (math.atan2(pt[1] - cy, pt[0] - cx) + 2 * math.pi) % (2 * math.pi)\n",
    "\n",
    "    # sort  (counter-clockwise)\n",
    "    sorted_pts = sorted(polygon, key=angle_from_centroid)\n",
    "\n",
    "    # return clockwise\n",
    "    return sorted_pts[::-1]\n",
    "\n",
    "\n",
    "def polygon_to_yolo_label_from_image_dict(image: Image.Image, data: dict, class_id=0) -> str:\n",
    "    \"\"\"\n",
    "    Converts the 'runwayLabel' polygon from the data dict into YOLO segmentation format:\n",
    "    <class-index> <x1> <y1> <x2> <y2> ... <xn> <yn>\n",
    "    \n",
    "    Coordinates are normalized to [0, 1] based on the image dimensions.\n",
    "    \"\"\"\n",
    "    if \"runwayLabel\" not in data:\n",
    "        raise KeyError(\"'runwayLabel' key not found in data dict.\")\n",
    "    \n",
    "    polygon = ensure_clockwise_quad(data[\"runwayLabel\"])\n",
    "    width, height = image.size\n",
    "\n",
    "    # Normalize coordinates to 0-1 range\n",
    "    normalized_points = [(pt[0] / width, pt[1] / height) for pt in polygon]\n",
    "    \n",
    "    flat_coords = \" \".join(f\"{x:.6f} {y:.6f}\" for x, y in normalized_points)\n",
    "    return f\"{class_id} {flat_coords}\"\n",
    "\n",
    "\n",
    "def create_runway_segmentation_mask(image: Image.Image, data: dict) -> Image.Image:\n",
    "    if \"runwayLabel\" not in data:\n",
    "        raise KeyError(\"'runwayLabel' key not found in data dict.\")\n",
    "    \n",
    "    polygon = ensure_clockwise_quad(data[\"runwayLabel\"])\n",
    "    width, height = image.size\n",
    "    mask = Image.new(\"L\", (width, height), 0)\n",
    "    draw = ImageDraw.Draw(mask)\n",
    "    draw.polygon([(int(x), int(y)) for (x, y) in polygon], fill=255)\n",
    "\n",
    "    return mask\n"
   ]
  },
  {
   "cell_type": "code",
   "execution_count": 15,
   "id": "d6eb4b3d-5a98-4367-8727-8992a4faeb62",
   "metadata": {},
   "outputs": [],
   "source": [
    "from tqdm import tqdm\n",
    "import os, json\n",
    "\n",
    "def make_labels_and_masks(folder):\n",
    "    valid_exts = (\".jpg\", \".jpeg\", \".png\", \".bmp\")\n",
    "    image_files = [f for f in os.listdir(folder) if f.lower().endswith(valid_exts) and not f.lower().endswith(\".mask.png\")]\n",
    "\n",
    "    for img_name in tqdm(image_files, desc=\"Processing images\", unit=\"img\"):\n",
    "        base_name, ext = os.path.splitext(img_name)\n",
    "\n",
    "        json_path = os.path.join(folder, f\"{base_name}.json\")\n",
    "        if not os.path.exists(json_path):\n",
    "            print(f\"Skipping {img_name}: no matching JSON {base_name}.json found.\")\n",
    "            continue\n",
    "\n",
    "        with open(json_path, \"r\") as f:\n",
    "            data = dict(json.load(f))\n",
    "\n",
    "        image_path = os.path.join(folder, img_name)\n",
    "        image = Image.open(image_path)\n",
    "\n",
    "        yolo_label = polygon_to_yolo_label_from_image_dict(image, data)\n",
    "        seg_mask = create_runway_segmentation_mask(image, data)\n",
    "\n",
    "        label_file_path = os.path.join(folder, f\"{base_name}.txt\")\n",
    "        with open(label_file_path, 'w', encoding='utf-8') as f:\n",
    "            f.write(yolo_label)\n",
    "\n",
    "        mask_file_path = os.path.join(folder, f\"{base_name}.mask.png\")\n",
    "        seg_mask.save(mask_file_path)"
   ]
  },
  {
   "cell_type": "code",
   "execution_count": 16,
   "id": "7d294709-5d66-41a2-813e-d643196d587b",
   "metadata": {},
   "outputs": [
    {
     "name": "stderr",
     "output_type": "stream",
     "text": [
      "Processing images: 100%|██████████| 6498/6498 [00:23<00:00, 280.66img/s]\n"
     ]
    }
   ],
   "source": [
    "make_labels_and_masks(\"p_BaseImages\")"
   ]
  },
  {
   "cell_type": "code",
   "execution_count": 17,
   "id": "99733265-defb-4b4f-b097-9321fd33a81e",
   "metadata": {},
   "outputs": [
    {
     "name": "stderr",
     "output_type": "stream",
     "text": [
      "Processing images: 100%|██████████| 19494/19494 [01:06<00:00, 295.13img/s]\n"
     ]
    }
   ],
   "source": [
    "make_labels_and_masks(\"p_VariantImages\")"
   ]
  },
  {
   "cell_type": "code",
   "execution_count": 18,
   "id": "6a01c044-7fa6-4ea6-bbe9-2a70ebaba05b",
   "metadata": {},
   "outputs": [
    {
     "name": "stderr",
     "output_type": "stream",
     "text": [
      "Processing images: 100%|██████████| 19494/19494 [01:06<00:00, 293.95img/s]\n"
     ]
    }
   ],
   "source": [
    "make_labels_and_masks(\"p_VariantImagesWithOcclusion\")"
   ]
  },
  {
   "cell_type": "code",
   "execution_count": null,
   "id": "a30a15ba-c603-4953-b4fe-f38f571aee6e",
   "metadata": {},
   "outputs": [],
   "source": []
  }
 ],
 "metadata": {
  "kernelspec": {
   "display_name": "Python 3 (ipykernel)",
   "language": "python",
   "name": "python3"
  },
  "language_info": {
   "codemirror_mode": {
    "name": "ipython",
    "version": 3
   },
   "file_extension": ".py",
   "mimetype": "text/x-python",
   "name": "python",
   "nbconvert_exporter": "python",
   "pygments_lexer": "ipython3",
   "version": "3.10.12"
  }
 },
 "nbformat": 4,
 "nbformat_minor": 5
}
